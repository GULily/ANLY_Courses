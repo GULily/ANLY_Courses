{
 "cells": [
  {
   "cell_type": "code",
   "execution_count": 1,
   "metadata": {
    "collapsed": true
   },
   "outputs": [],
   "source": [
    "import pandas as pd\n",
    "import plotly.plotly as py\n",
    "import plotly.tools as tls"
   ]
  },
  {
   "cell_type": "code",
   "execution_count": 4,
   "metadata": {},
   "outputs": [
    {
     "name": "stdout",
     "output_type": "stream",
     "text": [
      "(3228, 4)\n"
     ]
    },
    {
     "data": {
      "text/html": [
       "<div>\n",
       "<style>\n",
       "    .dataframe thead tr:only-child th {\n",
       "        text-align: right;\n",
       "    }\n",
       "\n",
       "    .dataframe thead th {\n",
       "        text-align: left;\n",
       "    }\n",
       "\n",
       "    .dataframe tbody tr th {\n",
       "        vertical-align: top;\n",
       "    }\n",
       "</style>\n",
       "<table border=\"1\" class=\"dataframe\">\n",
       "  <thead>\n",
       "    <tr style=\"text-align: right;\">\n",
       "      <th></th>\n",
       "      <th>name</th>\n",
       "      <th>pop</th>\n",
       "      <th>lat</th>\n",
       "      <th>lon</th>\n",
       "    </tr>\n",
       "  </thead>\n",
       "  <tbody>\n",
       "    <tr>\n",
       "      <th>0</th>\n",
       "      <td>New York</td>\n",
       "      <td>8287.238</td>\n",
       "      <td>40.730599</td>\n",
       "      <td>-73.986581</td>\n",
       "    </tr>\n",
       "    <tr>\n",
       "      <th>1</th>\n",
       "      <td>Los Angeles</td>\n",
       "      <td>3826.423</td>\n",
       "      <td>34.053717</td>\n",
       "      <td>-118.242727</td>\n",
       "    </tr>\n",
       "    <tr>\n",
       "      <th>2</th>\n",
       "      <td>Chicago</td>\n",
       "      <td>2705.627</td>\n",
       "      <td>41.875555</td>\n",
       "      <td>-87.624421</td>\n",
       "    </tr>\n",
       "    <tr>\n",
       "      <th>3</th>\n",
       "      <td>Houston</td>\n",
       "      <td>2129.784</td>\n",
       "      <td>29.758938</td>\n",
       "      <td>-95.367697</td>\n",
       "    </tr>\n",
       "    <tr>\n",
       "      <th>4</th>\n",
       "      <td>Philadelphia</td>\n",
       "      <td>1539.313</td>\n",
       "      <td>39.952335</td>\n",
       "      <td>-75.163789</td>\n",
       "    </tr>\n",
       "  </tbody>\n",
       "</table>\n",
       "</div>"
      ],
      "text/plain": [
       "            name       pop        lat         lon\n",
       "0      New York   8287.238  40.730599  -73.986581\n",
       "1   Los Angeles   3826.423  34.053717 -118.242727\n",
       "2       Chicago   2705.627  41.875555  -87.624421\n",
       "3       Houston   2129.784  29.758938  -95.367697\n",
       "4  Philadelphia   1539.313  39.952335  -75.163789"
      ]
     },
     "execution_count": 4,
     "metadata": {},
     "output_type": "execute_result"
    }
   ],
   "source": [
    "df = pd.read_csv('https://raw.githubusercontent.com/plotly/datasets/master/2014_us_cities.csv')\n",
    "print(df.shape)\n",
    "df['pop']=df['pop']/1000\n",
    "df.head()"
   ]
  },
  {
   "cell_type": "code",
   "execution_count": 22,
   "metadata": {},
   "outputs": [
    {
     "name": "stdout",
     "output_type": "stream",
     "text": [
      "            name       pop        lat         lon  \\\n",
      "0      New York   8287.238  40.730599  -73.986581   \n",
      "1   Los Angeles   3826.423  34.053717 -118.242727   \n",
      "2       Chicago   2705.627  41.875555  -87.624421   \n",
      "3       Houston   2129.784  29.758938  -95.367697   \n",
      "4  Philadelphia   1539.313  39.952335  -75.163789   \n",
      "\n",
      "                                                text  \n",
      "0   City: New York <br>Population: 8287.238 thousand  \n",
      "1  City: Los Angeles <br>Population: 3826.423 tho...  \n",
      "2    City: Chicago <br>Population: 2705.627 thousand  \n",
      "3    City: Houston <br>Population: 2129.784 thousand  \n",
      "4  City: Philadelphia <br>Population: 1539.313 th...  \n"
     ]
    }
   ],
   "source": [
    "## Create a new column called text that will read well in HTML\n",
    "## Note that <br> in HTML will create a new line\n",
    "## Convert the population to \"in thousands\" and as a string\n",
    "## Cat all of this together\n",
    "## This will be part of the pop-up text on the map generated\n",
    "df['text'] = 'City: ' + df['name'] + '<br>Population: ' + (df['pop']).astype(str)+' thousand'\n",
    "print(df.head())\n",
    "#print(df.iloc[0:1,2:3])"
   ]
  },
  {
   "cell_type": "code",
   "execution_count": 26,
   "metadata": {},
   "outputs": [],
   "source": [
    "## The dataset is already sorted by population size\n",
    "## The limits and colors will be used as bubbles on the map\n",
    "## and as part of the legend.\n",
    "## The first element in limits is (0,2) which are the top two\n",
    "## highest population cities. (3,10) are the next 7 highest\n",
    "## population citites, etc. \n",
    "limits = [(0,2),(3,10),(11,50),(51,100),(101,3000)]\n",
    "colors = [\"rgb(100,116,217)\",\"rgb(255,65,54)\",\"rgb(255,133,27)\",\"grey\",\"lightgrey\"]\n",
    "cities = []\n",
    "scale = 5\n",
    "\n",
    "##This builds the list of cities[]\n",
    "for i in range(len(limits)):\n",
    "    lim = limits[i]\n",
    "    df_sub = df[lim[0]:lim[1]]\n",
    "    city = dict(\n",
    "        type = 'scattergeo',\n",
    "        locationmode = 'USA-states',\n",
    "        lon = df_sub['lon'],\n",
    "        lat = df_sub['lat'],\n",
    "        text = df_sub['text'],\n",
    "        marker = dict(\n",
    "            size = df_sub['pop']/scale,\n",
    "            color = colors[i],\n",
    "            line = dict(width=0.5, color='rgb(40,40,40)'),\n",
    "            sizemode = 'area'\n",
    "        ),\n",
    "        ##This is Python3 formatting\n",
    "        ## RE: https://docs.python.org/3/library/string.html\n",
    "        ## Here, {0} will be lim[0] and {1} will be lim[1]\n",
    "        ##name = '{0} - {1}'.format(lim[0],lim[1])\n",
    "        ## I am changing this to a better legend\n",
    "        ## The iloc is an index location in the dataframe\n",
    "        name=\"{0} - {1} thousand\".format(int(df.iloc[lim[1],1]), int(df.iloc[lim[0],1]))\n",
    "        #df[lim[0],'pop']/1e6).astype(str))\n",
    "        )\n",
    "    cities.append(city)"
   ]
  },
  {
   "cell_type": "code",
   "execution_count": 27,
   "metadata": {},
   "outputs": [
    {
     "data": {
      "text/plain": [
       "'<iframe id=\"igraph\" scrolling=\"no\" style=\"border:none;\" seamless=\"seamless\" src=\"https://plot.ly/~GULily/503.embed\" height=\"525\" width=\"100%\"></iframe>'"
      ]
     },
     "execution_count": 27,
     "metadata": {},
     "output_type": "execute_result"
    }
   ],
   "source": [
    "layout = dict(\n",
    "        title = '2014 US city populations<br>(Click legend to toggle traces)<br>Yi Li',\n",
    "        showlegend = True,\n",
    "        geo = dict(\n",
    "            scope='usa',\n",
    "            projection=dict( type='albers usa' ),\n",
    "            showland = True,\n",
    "            landcolor = 'rgb(217, 217, 217)',\n",
    "            subunitwidth=1,\n",
    "            countrywidth=1,\n",
    "            subunitcolor=\"rgb(255, 255, 255)\",\n",
    "            countrycolor=\"rgb(255, 255, 255)\"\n",
    "        ),\n",
    "    )\n",
    "\n",
    "##To make this plotly map, we needed a proper dataset\n",
    "## and a layout\n",
    "## The above code created both\n",
    "fig = dict( data=cities, layout=layout )\n",
    "py.plot( fig, validate=False, filename='d3-bubble-map-populations' )\n",
    "##This creates a direct link to the vis\n",
    "tls.get_embed('https://plot.ly/~GULily/503')\n"
   ]
  }
 ],
 "metadata": {
  "kernelspec": {
   "display_name": "Python 3",
   "language": "python",
   "name": "python3"
  },
  "language_info": {
   "codemirror_mode": {
    "name": "ipython",
    "version": 3
   },
   "file_extension": ".py",
   "mimetype": "text/x-python",
   "name": "python",
   "nbconvert_exporter": "python",
   "pygments_lexer": "ipython3",
   "version": "3.6.1"
  }
 },
 "nbformat": 4,
 "nbformat_minor": 2
}
