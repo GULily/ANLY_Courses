{
 "cells": [
  {
   "cell_type": "code",
   "execution_count": null,
   "metadata": {
    "collapsed": true
   },
   "outputs": [],
   "source": [
    "Lat = []\n",
    "Long = []\n",
    "# Read Lat and Long data from file into list\n",
    "with open(\"Ex_Preprocess_LatLong.txt\", \"r\", encoding=\"utf-8\") as LatLong:\n",
    "    # The LatLong.txt must have this format: 34, -56.7\n",
    "    for line in LatLong:\n",
    "        if \"\\n\" in line:\n",
    "            #Remove the newline from each line\n",
    "            line=(line.split(sep=\"\\n\"))[0]\n",
    "        #Grab the Latitude from the line\n",
    "        Lat.append(float((line.split(sep=\",\"))[0]))\n",
    "        #print(Lat)\n",
    "        Long.append(float((line.split(sep=\",\"))[1]))\n",
    "        #print(Long.pop())\n",
    "    print(Lat)\n",
    "    print(Long)"
   ]
  },
  {
   "cell_type": "code",
   "execution_count": 1,
   "metadata": {},
   "outputs": [
    {
     "name": "stdout",
     "output_type": "stream",
     "text": [
      "     Latitude        City, State     Longitude User Ratings\n",
      "0  38.8903961      Arlington, VA   -77.0841585            2\n",
      "1  27.7703796  St Petersburg, FL   -82.6695085            2\n",
      "2  40.6914852        Jamaica, NY   -73.8056771            3\n",
      "3  37.7792768  San Francisco, CA  -122.4192704            3\n",
      "4  39.9622601       Columbus, OH   -83.0007065            2\n",
      "          Latitude    City, State    Longitude User Ratings\n",
      "count          100            102          100          102\n",
      "unique         100            101          100            5\n",
      "top     42.1306554  Manhattan, NY  -76.6874671            5\n",
      "freq             1              2            1           58\n"
     ]
    }
   ],
   "source": [
    "import pandas as pd\n",
    "\n",
    "# Read in data directly into pandas\n",
    "df = pd.read_csv('Ex_pandas_data.csv', sep=',', encoding='latin1')\n",
    "print(df.head())\n",
    "print(df.describe())"
   ]
  },
  {
   "cell_type": "code",
   "execution_count": 2,
   "metadata": {},
   "outputs": [
    {
     "name": "stdout",
     "output_type": "stream",
     "text": [
      "(102, 4)\n",
      "100\n",
      "2\n",
      "5    58\n",
      "4    29\n",
      "3     9\n",
      "2     5\n",
      "a     1\n",
      "Name: User Ratings, dtype: int64\n"
     ]
    }
   ],
   "source": [
    "print(df.shape)\n",
    "print(df['Latitude'].nunique())\n",
    "print(df['Latitude'].isnull().sum())\n",
    "# See counts of each value for User Ratings\n",
    "print(df['User Ratings'].value_counts())"
   ]
  },
  {
   "cell_type": "code",
   "execution_count": 7,
   "metadata": {},
   "outputs": [
    {
     "name": "stdout",
     "output_type": "stream",
     "text": [
      "      Latitude          City, State    Longitude User Ratings\n",
      "0   38.8903961        Arlington, VA  -77.0841585            2\n",
      "9   38.8051095       Alexandria, VA  -77.0470229            4\n",
      "19  38.3031837   Fredericksburg, VA  -77.4605399            3\n",
      "30  38.8462236          Fairfax, VA  -77.3063733            5\n",
      "66   38.029306  Charlottesville, VA  -78.4766781            4\n",
      "69  38.7890522      Springfield, VA  -77.1870368            5\n",
      "80  45.8907389   Prince William, VA  -67.0122574            4\n",
      "98  38.6581723       Woodbridge, VA  -77.2497049            5\n",
      "      Latitude             City, State     Longitude User Ratings\n",
      "0   38.8903961           Arlington, VA   -77.0841585            2\n",
      "1   27.7703796       St Petersburg, FL   -82.6695085            2\n",
      "4   39.9622601            Columbus, OH   -83.0007065            2\n",
      "12   34.053717         Los Angeles, CA  -118.2427266            2\n",
      "29  42.8864468             Buffalo, NY   -78.8783689            2\n",
      "79  51.5073219  London, United Kingdom    -0.1276474            a\n"
     ]
    }
   ],
   "source": [
    "# Find all rows in CA\n",
    "print(df[df[\"City, State\"].str.contains(\"VA\", na=False)])\n",
    "# Find all the rows with a list of values\n",
    "valuelist = ['1', '2', 'a']\n",
    "print(df[df[\"User Ratings\"].isin(valuelist)])"
   ]
  },
  {
   "cell_type": "code",
   "execution_count": 6,
   "metadata": {},
   "outputs": [
    {
     "name": "stdout",
     "output_type": "stream",
     "text": [
      "['2' '3' '4' '5' 'a']\n",
      "0 Arlington, VA\n",
      "1 St Petersburg, FL\n",
      "2 Jamaica, NY\n",
      "3 San Francisco, CA\n",
      "4 Columbus, OH\n",
      "5 Dallas, TX\n",
      "6 Annapolis, MD\n",
      "7 Arcadia, CA\n",
      "8 Jacksonville, FL\n",
      "9 Alexandria, VA\n",
      "10 San Jose, CA\n",
      "11 Manhattan, NY\n",
      "12 Los Angeles, CA\n",
      "13 Washington, DC\n",
      "14 Providence, RI\n",
      "15 Alameda, CA\n",
      "16 Lawrenceville, GA\n",
      "17 Bay Area, CA\n",
      "18 Ferndale, MI\n",
      "19 Fredericksburg, VA\n",
      "20 Canoga Park, CA\n",
      "21 Manhattan, NY\n",
      "22 Durham, NC\n",
      "23 Staten Island, NY\n",
      "24 San Diego, CA\n",
      "25 Capitol Hill/Northeast, Washington DC\n",
      "26 Northridge, CA\n",
      "27 Atlanta, GA\n",
      "28 San Antonio, TX\n",
      "29 Buffalo, NY\n",
      "30 Fairfax, VA\n",
      "31 Fort Lauderdale, FL\n",
      "32 Pittsburgh, PA\n",
      "33 A, A\n",
      "34 Houston, TX\n",
      "35 Potomac, MD\n",
      "36 New Britain, CT\n",
      "37 Beaufort, SC\n",
      "38 Anacostia, Washington DC\n",
      "39 Vancouver, Canada\n",
      "40 Long Beach, CA\n",
      "41 Austin, TX\n",
      "42 Highland Park, IL\n",
      "43 Hyattsville, MD\n",
      "44 Brookline, MA\n",
      "45 Torrey Pines, San Diego, CA\n",
      "46 Boston, MA\n",
      "47 Drexel Hill, PA\n",
      "48 Edgewater, NJ\n",
      "49 Santa Clara, CA\n",
      "50 Herriman, UT\n",
      "51 Hicksville, NY\n",
      "52 Raleigh, NC\n",
      "53 Wesley Heights, Washington, DC\n",
      "54 Redlands, CA\n",
      "55 North Beach, MD\n",
      "56 Allston, MA\n",
      "57 Newark, DE\n",
      "58 Chino, CA\n",
      "59 California, MD\n",
      "60 Bellevue, WA\n",
      "61 Gretna, NE\n",
      "62 Princeton, NJ\n",
      "63 Avon, MA\n",
      "64 Ogontz Campus, PA\n",
      "65 Orlando, FL\n",
      "66 Charlottesville, VA\n",
      "67 Irvine, CA\n",
      "68 Walnut Creek, CA\n",
      "69 Springfield, VA\n",
      "70 Union, NJ\n",
      "71 Cambridge, MA\n",
      "72 Minneapolis, MN\n",
      "73 Georgetown, Washington, DC\n",
      "74 Seattle, WA\n",
      "75 Bay Ridge, Brooklyn, NY\n",
      "76 Crofton, MD\n",
      "77 Evanston, IL\n",
      "78 Bethesda, MD\n",
      "79 London, United Kingdom\n",
      "80 Prince William, VA\n",
      "81 Indianapolis, IN\n",
      "82 Phoenix, AZ\n",
      "83 New York, NY\n",
      "84 Tampa, FL\n",
      "85 West Palm Beach, FL\n",
      "86 Miramar, FL\n",
      "87 WEST HILLS, CA\n",
      "88 Westlake, OH\n",
      "89 Sugar Land, TX\n",
      "90 Philadelphia, PA\n",
      "91 Salt Lake City, UT\n",
      "92 Sarasota, FL\n",
      "93 Rowland Heights, CA\n",
      "94 Egg Harbor City, NJ\n",
      "95 Baytown, TX\n",
      "96 Downey, CA\n",
      "97 East Elmhurst, NY\n",
      "98 Woodbridge, VA\n",
      "99 Fullerton, CA\n",
      "100 CA, CA\n",
      "101 FLUSHING, NY\n"
     ]
    }
   ],
   "source": [
    "# Find the unique rows in a data frame column\n",
    "print(pd.unique(df[\"User Ratings\"].ravel()))\n",
    "\n",
    "# Iterate through data frame\n",
    "for index, row in df.iterrows():\n",
    "    print(index, row['City, State'])"
   ]
  },
  {
   "cell_type": "markdown",
   "metadata": {},
   "source": [
    "## Clean the data"
   ]
  },
  {
   "cell_type": "code",
   "execution_count": 23,
   "metadata": {},
   "outputs": [
    {
     "name": "stdout",
     "output_type": "stream",
     "text": [
      "     Latitude     Longitude User Ratings           City State\n",
      "0  38.8903961   -77.0841585            2      Arlington    VA\n",
      "1  27.7703796   -82.6695085            2  St Petersburg    FL\n",
      "2  40.6914852   -73.8056771            3        Jamaica    NY\n",
      "3  37.7792768  -122.4192704            3  San Francisco    CA\n",
      "4  39.9622601   -83.0007065            2       Columbus    OH\n"
     ]
    }
   ],
   "source": [
    "# split data\n",
    "# Zip is an iterator in a pandas data frame. Lambda is an anonymous function\n",
    "df['City'], df['State'] = zip(*df['City, State'].apply(lambda x: x.split(',')))\n",
    "# Delete column from DataFrame\n",
    "del df['City, State']\n",
    "print(df.head())"
   ]
  },
  {
   "cell_type": "code",
   "execution_count": 38,
   "metadata": {},
   "outputs": [
    {
     "name": "stdout",
     "output_type": "stream",
     "text": [
      "       Latitude     Longitude User Ratings             City State\n",
      "42   25.0657658  -77.37495599            5    highland park    il\n",
      "86  25.97591145  -80.33472113            5          miramar    fl\n",
      "31   26.1223084   -80.1433786            4  fort lauderdale    fl\n",
      "85   26.7153425   -80.0533746            3  west palm beach    fl\n",
      "92   27.3364347   -82.5306527            4         sarasota    fl\n",
      "(102, 5)\n",
      "(100, 5)\n"
     ]
    }
   ],
   "source": [
    "# lower case\n",
    "df[\"City\"] = df[\"City\"].str.lower()\n",
    "df[\"State\"] = df[\"State\"].str.lower()\n",
    "# drop missing\n",
    "df_new = df.dropna(axis=0, how='any')\n",
    "print(df.head())\n",
    "print(df.shape)\n",
    "print(df_new.shape)"
   ]
  },
  {
   "cell_type": "code",
   "execution_count": 40,
   "metadata": {},
   "outputs": [
    {
     "name": "stdout",
     "output_type": "stream",
     "text": [
      "(101, 5)\n",
      "(99, 5)\n"
     ]
    }
   ],
   "source": [
    "# drop invalid\n",
    "for i in range(len(df.City)):\n",
    "    if (df['User Ratings'].iloc[i]!='5' and df['User Ratings'].iloc[i]!='4' and df['User Ratings'].iloc[i]!='3'\n",
    "       and df['User Ratings'].iloc[i]!='2' and df['User Ratings'].iloc[i]!='1'):\n",
    "        df_new = df.drop(i)\n",
    "print(df_new.shape)\n",
    "# drop missing\n",
    "df_new = df_new.dropna(axis=0, how='any')\n",
    "print(df_new.shape)"
   ]
  },
  {
   "cell_type": "code",
   "execution_count": 41,
   "metadata": {},
   "outputs": [
    {
     "name": "stdout",
     "output_type": "stream",
     "text": [
      "       Latitude     Longitude User Ratings             City State\n",
      "42   25.0657658  -77.37495599            5    highland park    il\n",
      "86  25.97591145  -80.33472113            5          miramar    fl\n",
      "31   26.1223084   -80.1433786            4  fort lauderdale    fl\n",
      "85   26.7153425   -80.0533746            3  west palm beach    fl\n",
      "92   27.3364347   -82.5306527            4         sarasota    fl\n",
      "(99, 5)\n"
     ]
    }
   ],
   "source": [
    "# Sort data by multiple columns\n",
    "df_new = df_new.sort_values(by=['Latitude', 'Longitude'], ascending=[1, 0])\n",
    "print(df_new.head())\n",
    "print(df_new.shape)"
   ]
  },
  {
   "cell_type": "code",
   "execution_count": 42,
   "metadata": {
    "collapsed": true
   },
   "outputs": [],
   "source": [
    "# Write the data to a file\n",
    "myfile = \"netid.txt\"\n",
    "df.to_csv(myfile, sep='|')"
   ]
  }
 ],
 "metadata": {
  "kernelspec": {
   "display_name": "Python 3",
   "language": "python",
   "name": "python3"
  },
  "language_info": {
   "codemirror_mode": {
    "name": "ipython",
    "version": 3
   },
   "file_extension": ".py",
   "mimetype": "text/x-python",
   "name": "python",
   "nbconvert_exporter": "python",
   "pygments_lexer": "ipython3",
   "version": "3.6.1"
  }
 },
 "nbformat": 4,
 "nbformat_minor": 2
}
